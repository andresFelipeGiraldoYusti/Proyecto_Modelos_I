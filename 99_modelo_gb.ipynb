{
 "cells": [
  {
   "cell_type": "markdown",
   "id": "2bd1fee1",
   "metadata": {},
   "source": [
    "# Modelo Gradient Boosting Mejorado"
   ]
  },
  {
   "cell_type": "code",
   "execution_count": null,
   "id": "1e127f91",
   "metadata": {},
   "outputs": [],
   "source": [
    "# Modelo Gradient Boosting optimizado para máximo rendimiento\n",
    "import pandas as pd\n",
    "from sklearn.ensemble import GradientBoostingClassifier\n",
    "from sklearn.preprocessing import LabelEncoder\n",
    "# ------------------------  1  ---------------------------------------\n"
   ]
  },
  {
   "cell_type": "markdown",
   "id": "a5ffa4e8",
   "metadata": {},
   "source": [
    "Leer archivos de manera local"
   ]
  },
  {
   "cell_type": "code",
   "execution_count": null,
   "id": "9bac7e81",
   "metadata": {},
   "outputs": [],
   "source": [
    "# Cargar datos\n",
    "train = pd.read_csv(\"train.csv\")\n",
    "test = pd.read_csv(\"test.csv\")\n",
    "# ------------------------  2  ---------------------------------------"
   ]
  },
  {
   "cell_type": "markdown",
   "id": "9b1bffb5",
   "metadata": {},
   "source": [
    "Leer archivos desde Kaggle"
   ]
  },
  {
   "cell_type": "code",
   "execution_count": null,
   "id": "3ee8ce18",
   "metadata": {},
   "outputs": [],
   "source": [
    "# Cargar datos\n",
    "from google.colab import drive\n",
    "drive.mount('/content/drive')\n",
    "url = '1mMaUvQuLaEOcwekPww2RGsfZjxCaqT_q'\n",
    "\n",
    "gdown.download(f\"https://drive.google.com/uc?export=download&id={url}\", 'kaggle.json', quiet=False)\n",
    "\n",
    "os.makedirs(\"/root/.kaggle\", exist_ok=True)\n",
    "\n",
    "shutil.move(\"kaggle.json\", \"/root/.kaggle/kaggle.json\")\n",
    "\n",
    "!kaggle competitions download -c udea-ai-4-eng-20251-pruebas-saber-pro-colombia\n",
    "\n",
    "zip_file_path = '/content/udea-ai-4-eng-20251-pruebas-saber-pro-colombia.zip'\n",
    "\n",
    "if os.path.exists(zip_file_path):\n",
    "    with zipfile.ZipFile(zip_file_path, 'r') as zip_ref:\n",
    "        zip_ref.extractall()\n",
    "# ------------------------  2  ---------------------------------------"
   ]
  },
  {
   "cell_type": "markdown",
   "id": "38186973",
   "metadata": {},
   "source": [
    "# Proceso"
   ]
  },
  {
   "cell_type": "code",
   "execution_count": null,
   "id": "19004fc1",
   "metadata": {},
   "outputs": [
    {
     "name": "stdout",
     "output_type": "stream",
     "text": [
      "✅ Submission generado: submission_gb_optimo.csv\n"
     ]
    }
   ],
   "source": [
    "# Usar el 100% de los datos\n",
    "train.drop(columns=[\"PERIODO\"], inplace=True)\n",
    "test.drop(columns=[\"PERIODO\"], inplace=True)\n",
    "# ------------------------  3  ---------------------------------------\n",
    "\n",
    "train.fillna(\"Desconocido\", inplace=True)\n",
    "test.fillna(\"Desconocido\", inplace=True)\n",
    "# ------------------------  4  ---------------------------------------\n",
    "\n",
    "# Codificación ordinal optimizada\n",
    "cat_cols = train.select_dtypes(include='object').columns.drop(\"RENDIMIENTO_GLOBAL\")\n",
    "for col in cat_cols:\n",
    "    orden = train[col].astype(\"category\").cat.categories\n",
    "    train[col] = train[col].astype(\"category\").cat.codes\n",
    "    test[col] = pd.Categorical(test[col], categories=orden).codes\n",
    "# ------------------------  5  ---------------------------------------\n",
    "\n",
    "# Variable objetivo\n",
    "X = train.drop(columns=[\"RENDIMIENTO_GLOBAL\"])\n",
    "y = train[\"RENDIMIENTO_GLOBAL\"]\n",
    "le = LabelEncoder()\n",
    "y_encoded = le.fit_transform(y)\n",
    "# ------------------------  6  ---------------------------------------\n",
    "\n",
    "# Entrenamiento sin validación para máximo ajuste\n",
    "model = GradientBoostingClassifier(\n",
    "    n_estimators=300,\n",
    "    learning_rate=0.05,\n",
    "    max_depth=6,\n",
    "    min_samples_split=4,\n",
    "    min_samples_leaf=3,\n",
    "    subsample=0.9,\n",
    "    max_features='sqrt',\n",
    "    random_state=42\n",
    ")\n",
    "model.fit(X, y_encoded)\n",
    "# ------------------------  7  ---------------------------------------\n",
    "\n",
    "# Predicción\n",
    "X_test = test.copy()\n",
    "preds = model.predict(X_test)\n",
    "preds_labels = le.inverse_transform(preds)\n",
    "# ------------------------  8  ---------------------------------------\n",
    "\n",
    "# Generar archivo de submission\n",
    "submission = pd.DataFrame({\n",
    "    \"ID\": test[\"ID\"],\n",
    "    \"RENDIMIENTO_GLOBAL\": preds_labels\n",
    "})\n",
    "submission.to_csv(\"submission_gb_optimo.csv\", index=False)\n",
    "print(\"✅ Submission generado: submission_gb_optimo.csv\")\n",
    "# ------------------------  9  ---------------------------------------\n"
   ]
  }
 ],
 "metadata": {
  "kernelspec": {
   "display_name": "Python 3",
   "language": "python",
   "name": "python3"
  },
  "language_info": {
   "codemirror_mode": {
    "name": "ipython",
    "version": 3
   },
   "file_extension": ".py",
   "mimetype": "text/x-python",
   "name": "python",
   "nbconvert_exporter": "python",
   "pygments_lexer": "ipython3",
   "version": "3.13.2"
  }
 },
 "nbformat": 4,
 "nbformat_minor": 5
}
