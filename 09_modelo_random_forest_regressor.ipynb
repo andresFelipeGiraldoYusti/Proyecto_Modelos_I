{
 "cells": [
  {
   "cell_type": "markdown",
   "id": "c0844670",
   "metadata": {},
   "source": [
    "# Modelo 09 - Adaptado de RandomForestRegressor a Clasificación"
   ]
  },
  {
   "cell_type": "code",
   "execution_count": null,
   "id": "d8eaa623",
   "metadata": {},
   "outputs": [
    {
     "name": "stderr",
     "output_type": "stream",
     "text": [
      "C:\\Users\\pipey\\AppData\\Local\\Temp\\ipykernel_21420\\2525987758.py:17: FutureWarning: A value is trying to be set on a copy of a DataFrame or Series through chained assignment using an inplace method.\n",
      "The behavior will change in pandas 3.0. This inplace method will never work because the intermediate object on which we are setting values always behaves as a copy.\n",
      "\n",
      "For example, when doing 'df[col].method(value, inplace=True)', try using 'df.method({col: value}, inplace=True)' or df[col] = df[col].method(value) instead, to perform the operation inplace on the original object.\n",
      "\n",
      "\n",
      "  df[col].fillna(df[col].mode()[0], inplace=True)\n"
     ]
    }
   ],
   "source": [
    "# === Importación de librerías ===\n",
    "import pandas as pd\n",
    "from sklearn.ensemble import RandomForestClassifier\n",
    "from sklearn.preprocessing import LabelEncoder\n",
    "\n",
    "# === Carga de datos ===\n",
    "df_train = pd.read_csv(\"./data/train.csv\")\n",
    "df_test = pd.read_csv(\"./data/test.csv\")\n",
    "\n",
    "# === Imputación de valores nulos ===\n",
    "for df in [df_train, df_test]:\n",
    "    for col in df.columns:\n",
    "        if df[col].isnull().sum() > 0:\n",
    "            if df[col].dtype in ['float64', 'int64']:\n",
    "                df[col].fillna(df[col].mean(), inplace=True)\n",
    "            else:\n",
    "                df[col].fillna(df[col].mode()[0], inplace=True)\n",
    "\n",
    "# === Codificación robusta solo para columnas comunes y categóricas ===\n",
    "cat_cols = df_train.select_dtypes(include=['object', 'category']).columns\n",
    "cat_cols = [col for col in cat_cols if col in df_test.columns and col != 'RENDIMIENTO_GLOBAL']\n",
    "for col in cat_cols:\n",
    "    le = LabelEncoder()\n",
    "    df_train[col] = le.fit_transform(df_train[col])\n",
    "    mapping = dict(zip(le.classes_, le.transform(le.classes_)))\n",
    "    df_test[col] = df_test[col].map(mapping).fillna(-1).astype(int)\n",
    "\n",
    "# === Variable objetivo ===\n",
    "X = df_train.drop(columns=['RENDIMIENTO_GLOBAL'])\n",
    "y = df_train['RENDIMIENTO_GLOBAL']\n",
    "\n",
    "# === Identificar columna ID automáticamente ===\n",
    "id_col = [col for col in df_test.columns if col.lower() == 'id']\n",
    "if not id_col:\n",
    "    raise KeyError(\"No se encontró una columna llamada 'Id' o 'ID' en df_test.\")\n",
    "id_col = id_col[0]\n",
    "X_test_model = df_test.drop(columns=[id_col])\n",
    "\n",
    "# === Entrenamiento ===\n",
    "modelo = RandomForestClassifier(n_estimators=100, random_state=42)\n",
    "modelo.fit(X, y)\n",
    "\n",
    "# === Predicción ===\n",
    "X_test_model = df_test \n",
    "y_pred = modelo.predict(X_test_model)\n",
    "\n",
    "# === Generar archivo de submission ===\n",
    "submission = pd.DataFrame({'ID': df_test[id_col], 'RENDIMIENTO_GLOBAL': y_pred})\n",
    "submission.to_csv('submission.csv', index=False)"
   ]
  }
 ],
 "metadata": {
  "kernelspec": {
   "display_name": "Python 3",
   "language": "python",
   "name": "python3"
  },
  "language_info": {
   "codemirror_mode": {
    "name": "ipython",
    "version": 3
   },
   "file_extension": ".py",
   "mimetype": "text/x-python",
   "name": "python",
   "nbconvert_exporter": "python",
   "pygments_lexer": "ipython3",
   "version": "3.13.2"
  }
 },
 "nbformat": 4,
 "nbformat_minor": 5
}
